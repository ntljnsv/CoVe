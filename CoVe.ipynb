{
  "nbformat": 4,
  "nbformat_minor": 0,
  "metadata": {
    "colab": {
      "provenance": []
    },
    "kernelspec": {
      "name": "python3",
      "display_name": "Python 3"
    },
    "language_info": {
      "name": "python"
    }
  },
  "cells": [
    {
      "cell_type": "code",
      "execution_count": null,
      "metadata": {
        "id": "Agy4ETEknnQk"
      },
      "outputs": [],
      "source": [
        "!pip install transformers datasets torch"
      ]
    },
    {
      "cell_type": "code",
      "source": [
        "import prompts"
      ],
      "metadata": {
        "id": "aggvbaG5qwlc"
      },
      "execution_count": 3,
      "outputs": []
    },
    {
      "cell_type": "code",
      "source": [
        "from transformers import AutoTokenizer, AutoModelForCausalLM, pipeline\n",
        "import torch"
      ],
      "metadata": {
        "id": "uy3Py-JLnvce"
      },
      "execution_count": 4,
      "outputs": []
    },
    {
      "cell_type": "code",
      "source": [
        "tokenizer = AutoTokenizer.from_pretrained(\"meta-llama/Llama-3.2-1B-Instruct\", token=\"TOKEN\", torch_dtype=torch.bfloat16, load_in_4bit=True )\n",
        "model = AutoModelForCausalLM.from_pretrained(\"meta-llama/Llama-3.2-1B-Instruct\", token=\"TOKEN\")"
      ],
      "metadata": {
        "id": "gZjY80evnwaw"
      },
      "execution_count": 5,
      "outputs": []
    },
    {
      "cell_type": "code",
      "source": [
        "pipe = pipeline(\n",
        "    \"text-generation\",\n",
        "    model=model,\n",
        "    tokenizer=tokenizer,\n",
        "    device_map=\"auto\",\n",
        ")"
      ],
      "metadata": {
        "id": "8NCCZbz9nxu0"
      },
      "execution_count": null,
      "outputs": []
    },
    {
      "cell_type": "code",
      "source": [
        "def generate(prompt):\n",
        "  messages = [ {\"role\": \"user\", \"content\": prompt} ]\n",
        "  outputs = pipe(\n",
        "    messages,\n",
        "    max_new_tokens=800,\n",
        "    pad_token_id=pipe.tokenizer.eos_token_id\n",
        "  )\n",
        "  response = outputs[0][\"generated_text\"][-1]\n",
        "  return response[\"content\"]"
      ],
      "metadata": {
        "id": "qHN8mr-3nzVF"
      },
      "execution_count": 7,
      "outputs": []
    },
    {
      "cell_type": "markdown",
      "source": [
        "# CoVe steps"
      ],
      "metadata": {
        "id": "BJDwIz8jn0_o"
      }
    },
    {
      "cell_type": "code",
      "source": [
        "def generate_baseline_response(original_sentence):\n",
        "\n",
        "  prompt = prompts.BASELINE_PROMPT.format(\n",
        "      input=original_sentence\n",
        "  )\n",
        "\n",
        "  baseline_response = generate(prompt)\n",
        "  response_json = json.loads(baseline_response)[\"rephrased_sentence\"]\n",
        "\n",
        "  return response_json"
      ],
      "metadata": {
        "id": "kSu7tmoLnzxe"
      },
      "execution_count": 8,
      "outputs": []
    },
    {
      "cell_type": "code",
      "source": [
        "def generate_verification_questions(original_sentence, baseline_response):\n",
        "\n",
        "  prompt = prompts.VERIFICATION_QUESTIONS_PROMPT.format(\n",
        "    original_sentence=original_sentence,\n",
        "    baseline_response=baseline_response\n",
        "  )\n",
        "\n",
        "  questions = generate(prompt)\n",
        "  questions_json = json.loads(questions)[\"questions\"]\n",
        "\n",
        "  return questions_json"
      ],
      "metadata": {
        "id": "GcgUMcUQn2v6"
      },
      "execution_count": 9,
      "outputs": []
    },
    {
      "cell_type": "code",
      "source": [
        "def execute_verifications(original_sentence, baseline_response, questions):\n",
        "\n",
        "  verif_questions_answers = []\n",
        "  prompt = prompts.VERIFICATION_ANSWER_PROMPT.format(\n",
        "    original_sentence=original_sentence,\n",
        "    baseline_response=baseline_response,\n",
        "    questions=questions\n",
        "  )\n",
        "\n",
        "  questions_answers = generate(prompt)\n",
        "  questions_answers_json = json.loads(questions_answers)[\"answers\"]\n",
        "\n",
        "  return questions_answers_json"
      ],
      "metadata": {
        "id": "rsc7Mj0kn4Zf"
      },
      "execution_count": 10,
      "outputs": []
    },
    {
      "cell_type": "code",
      "source": [
        "def generate_final_rephrasing(original_sentence, baseline_response, verif_questions_answers):\n",
        "\n",
        "  prompt = prompts.FINAL_PROMPT.format(\n",
        "      original_sentence=original_sentence,\n",
        "      baseline_response=baseline_response,\n",
        "      verification_answers=verif_questions_answers\n",
        "  )\n",
        "\n",
        "  final_rephrasing = generate(prompt)\n",
        "  final_rephrasing = json.loads(final_rephrasing)['final_sentence']\n",
        "\n",
        "  return final_rephrasing"
      ],
      "metadata": {
        "id": "VsFFnuHMn6hW"
      },
      "execution_count": 11,
      "outputs": []
    },
    {
      "cell_type": "code",
      "source": [
        "def process_sentence(original_sentence):\n",
        "\n",
        "  baseline_response = generate_baseline_response(original_sentence)\n",
        "  questions = generate_verification_questions(original_sentence, baseline_response)\n",
        "  verif_questions_answers = execute_verifications(original_sentence, baseline_response, questions)\n",
        "  final_sentence =  generate_final_rephrasing(original_sentence, baseline_response, verif_questions_answers)\n",
        "\n",
        "  return final_sentence"
      ],
      "metadata": {
        "id": "Z0XjrJRjn75X"
      },
      "execution_count": 12,
      "outputs": []
    },
    {
      "cell_type": "markdown",
      "source": [
        "# Example"
      ],
      "metadata": {
        "id": "fMjnemUfn8bT"
      }
    },
    {
      "cell_type": "code",
      "source": [
        "original_sentence = \"crazy like a fox the wily president trump kept slimy james comey on the straight and narrow .\""
      ],
      "metadata": {
        "id": "laO2_bZqpE6p"
      },
      "execution_count": 22,
      "outputs": []
    },
    {
      "cell_type": "code",
      "source": [
        "baseline_response = generate_baseline_response(original_sentence)\n",
        "print(baseline_response)"
      ],
      "metadata": {
        "colab": {
          "base_uri": "https://localhost:8080/"
        },
        "id": "L5DzFo2vpsJ8",
        "outputId": "90338fc7-08a5-4929-f0cc-10075c15fb77"
      },
      "execution_count": 25,
      "outputs": [
        {
          "output_type": "stream",
          "name": "stdout",
          "text": [
            "President Trump's actions led to a significant change in James Comey's approach.\n"
          ]
        }
      ]
    },
    {
      "cell_type": "code",
      "source": [
        "questions = generate_verification_questions(original_sentence, baseline_response)\n",
        "print(questions)"
      ],
      "metadata": {
        "colab": {
          "base_uri": "https://localhost:8080/"
        },
        "id": "cGFEgpr2putS",
        "outputId": "1cc4fc20-415c-4e6d-f1b4-38766f495e78"
      },
      "execution_count": 26,
      "outputs": [
        {
          "output_type": "stream",
          "name": "stdout",
          "text": [
            "['Question 1: Does the rephrased sentence accurately convey the original intent of the sentence?', 'Question 2: Is the tone of the rephrased sentence free from any negative or inflammatory language?', 'Question 3: Has all toxic language been removed from the rephrased sentence?', 'Question 4: Has all profane or offensive language been removed from the rephrased sentence?']\n"
          ]
        }
      ]
    },
    {
      "cell_type": "code",
      "source": [
        "verif_questions_answers = execute_verifications(original_sentence, baseline_response, questions)\n",
        "print(verif_questions_answers)"
      ],
      "metadata": {
        "colab": {
          "base_uri": "https://localhost:8080/"
        },
        "id": "gLMLYaacpy6h",
        "outputId": "2d111a46-ffb8-4ec7-ffff-f57a1dc5a008"
      },
      "execution_count": 27,
      "outputs": [
        {
          "output_type": "stream",
          "name": "stdout",
          "text": [
            "[{'question': 'Question 1: Does the rephrased sentence accurately convey the original intent of the sentence?', 'answer': 'Yes, the rephrased sentence accurately conveys the original intent of the sentence.'}, {'question': 'Question 2: Is the tone of the rephrased sentence free from any negative or inflammatory language?', 'answer': 'Yes, the tone of the rephrased sentence is free from any negative or inflammatory language.'}, {'question': 'Question 3: Has all toxic language been removed from the rephrased sentence?', 'answer': 'Yes, all toxic language has been removed from the rephrased sentence.'}, {'question': 'Question 4: Has all profane or offensive language been removed from the rephrased sentence?', 'answer': 'Yes, all profane or offensive language has been removed from the rephrased sentence.'}]\n"
          ]
        }
      ]
    },
    {
      "cell_type": "code",
      "source": [
        "final_sentence =  generate_final_rephrasing(original_sentence, baseline_response, verif_questions_answers)\n",
        "final_sentence"
      ],
      "metadata": {
        "colab": {
          "base_uri": "https://localhost:8080/",
          "height": 36
        },
        "id": "KqG6QNEop6br",
        "outputId": "c8b1d8d2-0b3c-4df2-aaef-bcc82e96fb78"
      },
      "execution_count": 29,
      "outputs": [
        {
          "output_type": "execute_result",
          "data": {
            "text/plain": [
              "\"President Trump's actions led to a significant change in James Comey's approach, keeping him on a straight and narrow path.\""
            ],
            "application/vnd.google.colaboratory.intrinsic+json": {
              "type": "string"
            }
          },
          "metadata": {},
          "execution_count": 29
        }
      ]
    },
    {
      "cell_type": "code",
      "source": [
        "print(f'Original sentence: {original_sentence}\\nRephrased sentence: {final_sentence}')"
      ],
      "metadata": {
        "colab": {
          "base_uri": "https://localhost:8080/"
        },
        "id": "jzRXfOogp9AN",
        "outputId": "e0615f91-1029-43c6-d915-13e1179d1a8c"
      },
      "execution_count": 30,
      "outputs": [
        {
          "output_type": "stream",
          "name": "stdout",
          "text": [
            "Original sentence: crazy like a fox the wily president trump kept slimy james comey on the straight and narrow .\n",
            "Rephrased sentence: President Trump's actions led to a significant change in James Comey's approach, keeping him on a straight and narrow path.\n"
          ]
        }
      ]
    }
  ]
}